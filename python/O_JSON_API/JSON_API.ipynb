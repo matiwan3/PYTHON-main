{
 "cells": [
  {
   "cell_type": "code",
   "execution_count": 1,
   "id": "a3237d7a-fdc1-4545-a558-625273898d8f",
   "metadata": {},
   "outputs": [],
   "source": [
    "import requests"
   ]
  },
  {
   "cell_type": "code",
   "execution_count": 12,
   "id": "d9e323ee-6cf2-4c27-8075-e70f73a303ba",
   "metadata": {},
   "outputs": [],
   "source": [
    "response = requests.get('https://api.covid19api.com/summary').text"
   ]
  },
  {
   "cell_type": "code",
   "execution_count": 13,
   "id": "93211a26-9340-41d1-873d-293359bf7bc7",
   "metadata": {},
   "outputs": [],
   "source": [
    "response = requests.get('https://api.covid19api.com/summary').text"
   ]
  },
  {
   "cell_type": "code",
   "execution_count": 15,
   "id": "5b2328af-d552-4889-a190-02e422858bef",
   "metadata": {},
   "outputs": [],
   "source": [
    "response_info = json.loads(response)"
   ]
  },
  {
   "cell_type": "code",
   "execution_count": 16,
   "id": "f311ac48-0ef3-44c3-83e7-7631676b2909",
   "metadata": {},
   "outputs": [],
   "source": [
    "import json"
   ]
  },
  {
   "cell_type": "code",
   "execution_count": 17,
   "id": "a96e48a3-7938-4b20-930d-2f109a1da749",
   "metadata": {},
   "outputs": [],
   "source": [
    "response_info = json.loads(response)"
   ]
  },
  {
   "cell_type": "code",
   "execution_count": 19,
   "id": "73119641-d521-4b2f-bff4-1b82dbb1d1b7",
   "metadata": {},
   "outputs": [
    {
     "data": {
      "text/plain": [
       "dict"
      ]
     },
     "execution_count": 19,
     "metadata": {},
     "output_type": "execute_result"
    }
   ],
   "source": [
    "type(response_info)"
   ]
  },
  {
   "cell_type": "code",
   "execution_count": null,
   "id": "a95f606e-f1d3-4618-a1fd-04761b7afe85",
   "metadata": {},
   "outputs": [],
   "source": []
  }
 ],
 "metadata": {
  "kernelspec": {
   "display_name": "Python 3.10.6 64-bit",
   "language": "python",
   "name": "python3"
  },
  "language_info": {
   "codemirror_mode": {
    "name": "ipython",
    "version": 3
   },
   "file_extension": ".py",
   "mimetype": "text/x-python",
   "name": "python",
   "nbconvert_exporter": "python",
   "pygments_lexer": "ipython3",
   "version": "3.10.6"
  },
  "vscode": {
   "interpreter": {
    "hash": "32b6365f16a9560d1f64eaf7f0cd3e0262cb733df60217a199a198ac26346325"
   }
  }
 },
 "nbformat": 4,
 "nbformat_minor": 5
}
