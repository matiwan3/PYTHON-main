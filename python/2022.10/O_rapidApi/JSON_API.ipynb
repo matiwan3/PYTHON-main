{
 "cells": [
  {
   "cell_type": "code",
   "execution_count": 1,
   "id": "a3237d7a-fdc1-4545-a558-625273898d8f",
   "metadata": {},
   "outputs": [],
   "source": [
    "import requests"
   ]
  },
  {
   "cell_type": "code",
   "execution_count": 12,
   "id": "d9e323ee-6cf2-4c27-8075-e70f73a303ba",
   "metadata": {},
   "outputs": [],
   "source": [
    "response = requests.get('https://api.covid19api.com/summary').text"
   ]
  },
  {
   "cell_type": "code",
   "execution_count": 13,
   "id": "93211a26-9340-41d1-873d-293359bf7bc7",
   "metadata": {},
   "outputs": [],
   "source": [
    "response = requests.get('https://api.covid19api.com/summary').text"
   ]
  },
  {
   "cell_type": "code",
   "execution_count": 3,
   "id": "2966af6f-5214-4287-ab19-761d3a58343e",
   "metadata": {},
   "outputs": [
    {
     "ename": "SyntaxError",
     "evalue": "invalid syntax (2615864601.py, line 1)",
     "output_type": "error",
     "traceback": [
      "\u001b[1;36m  Input \u001b[1;32mIn [3]\u001b[1;36m\u001b[0m\n\u001b[1;33m    response.\u001b[0m\n\u001b[1;37m             ^\u001b[0m\n\u001b[1;31mSyntaxError\u001b[0m\u001b[1;31m:\u001b[0m invalid syntax\n"
     ]
    }
   ],
   "source": [
    "response."
   ]
  },
  {
   "cell_type": "code",
   "execution_count": 15,
   "id": "5b2328af-d552-4889-a190-02e422858bef",
   "metadata": {},
   "outputs": [],
   "source": [
    "response_info = json.loads(response)"
   ]
  },
  {
   "cell_type": "code",
   "execution_count": 16,
   "id": "f311ac48-0ef3-44c3-83e7-7631676b2909",
   "metadata": {},
   "outputs": [],
   "source": [
    "import json"
   ]
  },
  {
   "cell_type": "code",
   "execution_count": 17,
   "id": "a96e48a3-7938-4b20-930d-2f109a1da749",
   "metadata": {},
   "outputs": [],
   "source": [
    "response_info = json.loads(response)"
   ]
  },
  {
   "cell_type": "code",
   "execution_count": 2,
   "id": "0db7a8ed-93b4-47c0-aa72-94a65c022e3f",
   "metadata": {},
   "outputs": [
    {
     "ename": "SyntaxError",
     "evalue": "invalid syntax (4192800222.py, line 1)",
     "output_type": "error",
     "traceback": [
      "\u001b[1;36m  Input \u001b[1;32mIn [2]\u001b[1;36m\u001b[0m\n\u001b[1;33m    response_info.\u001b[0m\n\u001b[1;37m                  ^\u001b[0m\n\u001b[1;31mSyntaxError\u001b[0m\u001b[1;31m:\u001b[0m invalid syntax\n"
     ]
    }
   ],
   "source": [
    "response_info."
   ]
  },
  {
   "cell_type": "code",
   "execution_count": 19,
   "id": "73119641-d521-4b2f-bff4-1b82dbb1d1b7",
   "metadata": {},
   "outputs": [
    {
     "data": {
      "text/plain": [
       "dict"
      ]
     },
     "execution_count": 19,
     "metadata": {},
     "output_type": "execute_result"
    }
   ],
   "source": [
    "type(response_info)"
   ]
  },
  {
   "cell_type": "code",
   "execution_count": 1,
   "id": "6da3876e-325e-4a40-aecb-3393cb68a6c0",
   "metadata": {},
   "outputs": [
    {
     "ename": "SyntaxError",
     "evalue": "invalid syntax (1137277823.py, line 1)",
     "output_type": "error",
     "traceback": [
      "\u001b[1;36m  Input \u001b[1;32mIn [1]\u001b[1;36m\u001b[0m\n\u001b[1;33m    response_info['Countries'].\u001b[0m\n\u001b[1;37m                               ^\u001b[0m\n\u001b[1;31mSyntaxError\u001b[0m\u001b[1;31m:\u001b[0m invalid syntax\n"
     ]
    }
   ],
   "source": [
    "\n",
    "response_info['Countries']."
   ]
  },
  {
   "cell_type": "code",
   "execution_count": 23,
   "id": "a95f606e-f1d3-4618-a1fd-04761b7afe85",
   "metadata": {},
   "outputs": [],
   "source": [
    "import pandas as pd"
   ]
  },
  {
   "cell_type": "code",
   "execution_count": 27,
   "id": "c3a68dbe-1f98-4ec7-9958-8a86db221417",
   "metadata": {},
   "outputs": [],
   "source": [
    "country_list = []\n",
    "for country_info in response_info['Countries']:\n",
    " country_list.append([country_info['Country'], country_info['TotalConfirmed']])"
   ]
  },
  {
   "cell_type": "code",
   "execution_count": 28,
   "id": "3495cb2c-5b29-478d-b1b6-6af2c28ef7b0",
   "metadata": {},
   "outputs": [],
   "source": [
    "country_df = pd.DataFrame(data=country_list, columns=['Country', 'Total_Confirmed'])"
   ]
  },
  {
   "cell_type": "code",
   "execution_count": 29,
   "id": "86943029-23c7-4142-952d-24225b7fb71e",
   "metadata": {},
   "outputs": [
    {
     "data": {
      "text/html": [
       "<div>\n",
       "<style scoped>\n",
       "    .dataframe tbody tr th:only-of-type {\n",
       "        vertical-align: middle;\n",
       "    }\n",
       "\n",
       "    .dataframe tbody tr th {\n",
       "        vertical-align: top;\n",
       "    }\n",
       "\n",
       "    .dataframe thead th {\n",
       "        text-align: right;\n",
       "    }\n",
       "</style>\n",
       "<table border=\"1\" class=\"dataframe\">\n",
       "  <thead>\n",
       "    <tr style=\"text-align: right;\">\n",
       "      <th></th>\n",
       "      <th>Country</th>\n",
       "      <th>Total_Confirmed</th>\n",
       "    </tr>\n",
       "  </thead>\n",
       "  <tbody>\n",
       "    <tr>\n",
       "      <th>0</th>\n",
       "      <td>Afghanistan</td>\n",
       "      <td>201557</td>\n",
       "    </tr>\n",
       "    <tr>\n",
       "      <th>1</th>\n",
       "      <td>Albania</td>\n",
       "      <td>332701</td>\n",
       "    </tr>\n",
       "    <tr>\n",
       "      <th>2</th>\n",
       "      <td>Algeria</td>\n",
       "      <td>270768</td>\n",
       "    </tr>\n",
       "    <tr>\n",
       "      <th>3</th>\n",
       "      <td>Andorra</td>\n",
       "      <td>46449</td>\n",
       "    </tr>\n",
       "    <tr>\n",
       "      <th>4</th>\n",
       "      <td>Angola</td>\n",
       "      <td>103131</td>\n",
       "    </tr>\n",
       "    <tr>\n",
       "      <th>5</th>\n",
       "      <td>Antarctica</td>\n",
       "      <td>11</td>\n",
       "    </tr>\n",
       "    <tr>\n",
       "      <th>6</th>\n",
       "      <td>Antigua and Barbuda</td>\n",
       "      <td>9106</td>\n",
       "    </tr>\n",
       "    <tr>\n",
       "      <th>7</th>\n",
       "      <td>Argentina</td>\n",
       "      <td>9715464</td>\n",
       "    </tr>\n",
       "    <tr>\n",
       "      <th>8</th>\n",
       "      <td>Armenia</td>\n",
       "      <td>444869</td>\n",
       "    </tr>\n",
       "    <tr>\n",
       "      <th>9</th>\n",
       "      <td>Australia</td>\n",
       "      <td>10313911</td>\n",
       "    </tr>\n",
       "  </tbody>\n",
       "</table>\n",
       "</div>"
      ],
      "text/plain": [
       "               Country  Total_Confirmed\n",
       "0          Afghanistan           201557\n",
       "1              Albania           332701\n",
       "2              Algeria           270768\n",
       "3              Andorra            46449\n",
       "4               Angola           103131\n",
       "5           Antarctica               11\n",
       "6  Antigua and Barbuda             9106\n",
       "7            Argentina          9715464\n",
       "8              Armenia           444869\n",
       "9            Australia         10313911"
      ]
     },
     "execution_count": 29,
     "metadata": {},
     "output_type": "execute_result"
    }
   ],
   "source": [
    "country_df.head(10)"
   ]
  }
 ],
 "metadata": {
  "kernelspec": {
   "display_name": "Python 3 (ipykernel)",
   "language": "python",
   "name": "python3"
  },
  "language_info": {
   "codemirror_mode": {
    "name": "ipython",
    "version": 3
   },
   "file_extension": ".py",
   "mimetype": "text/x-python",
   "name": "python",
   "nbconvert_exporter": "python",
   "pygments_lexer": "ipython3",
   "version": "3.10.6"
  },
  "vscode": {
   "interpreter": {
    "hash": "32b6365f16a9560d1f64eaf7f0cd3e0262cb733df60217a199a198ac26346325"
   }
  }
 },
 "nbformat": 4,
 "nbformat_minor": 5
}
